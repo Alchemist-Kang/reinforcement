{
 "cells": [
  {
   "cell_type": "code",
   "execution_count": 19,
   "id": "fc238800",
   "metadata": {},
   "outputs": [
    {
     "name": "stdout",
     "output_type": "stream",
     "text": [
      "tiabrb\n",
      "trabib:trabib:trabib:tr\n",
      ":\n",
      "58\n"
     ]
    }
   ],
   "source": [
    "input = open('C:/Users/USER/Desktop/reinforcement_learning/HW/hw1/rabbit_farm.txt')\n",
    "output = open('C:/Users/USER/Desktop/reinforcement_learning/HW/hw1/rabbit_farm.txt')\n",
    "\n",
    "str_read = input.read()\n",
    "\n",
    "\n",
    "str_replace = str_read.replace(\":\",\"\\n\")\n",
    "str_replace = str_replace.strip()\n",
    "list_1 = str_replace.split('\\n')\n",
    "\n",
    "print(list_1)\n",
    "\n"
   ]
  },
  {
   "cell_type": "code",
   "execution_count": null,
   "id": "11c4adec",
   "metadata": {},
   "outputs": [],
   "source": []
  },
  {
   "cell_type": "code",
   "execution_count": null,
   "id": "eca3553d",
   "metadata": {},
   "outputs": [],
   "source": []
  }
 ],
 "metadata": {
  "kernelspec": {
   "display_name": "Python 3 (ipykernel)",
   "language": "python",
   "name": "python3"
  },
  "language_info": {
   "codemirror_mode": {
    "name": "ipython",
    "version": 3
   },
   "file_extension": ".py",
   "mimetype": "text/x-python",
   "name": "python",
   "nbconvert_exporter": "python",
   "pygments_lexer": "ipython3",
   "version": "3.10.9"
  }
 },
 "nbformat": 4,
 "nbformat_minor": 5
}
